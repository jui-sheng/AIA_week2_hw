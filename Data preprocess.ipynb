{
 "cells": [
  {
   "cell_type": "markdown",
   "metadata": {},
   "source": [
    "# Training Data 更名\n",
    "\n",
    "我們先把原始資料整理成Dataframe方便後續處理\n",
    "放進rename_train資料夾裡\n",
    "\n",
    "\n",
    "(執行完後就不用在執行了)"
   ]
  },
  {
   "cell_type": "code",
   "execution_count": null,
   "metadata": {},
   "outputs": [],
   "source": [
    "import numpy as np\n",
    "import pandas as pd\n",
    "import os, os.path\n",
    "import matplotlib.image as mpimg \n",
    "import matplotlib.pyplot as plt\n",
    "import cv2\n",
    "%matplotlib inline\n",
    "from sklearn.model_selection import train_test_split\n",
    "from sklearn.utils import shuffle\n",
    "from tqdm import tqdm_notebook #用來顯示進度條的套件\n",
    "from tqdm import tqdm\n",
    "import tensorflow as tf\n",
    "\n",
    "# #設定Image dict\n",
    "# map_images = {0: 'kitchen', 1: 'street', 2: 'industrial', \n",
    "#         3: 'insidecity', 4: 'forest', 5: 'livingroom', 6: 'opencountry', \n",
    "#         7: 'PARoffice', 8: 'mountain', 9: 'CALsuburb', 10: 'coast', \n",
    "#         11: 'store', 12: 'bedroom', 13: 'tallbuilding', 14: 'highway'}\n",
    "# reverse_dict = {v:k for k,v in map_images.items()}\n",
    "# reverse_dict\n",
    "\n",
    "# path = r\"train\"\n",
    "# #指定開一個新資料夾存放更名後的資料\n",
    "# newpath=r\"rename_train\"\n",
    "# if not os.path.exists(newpath):\n",
    "#     os.mkdir(newpath)\n",
    "\n",
    "\n",
    "# type_,name_,file_=[],[],[]\n",
    "    \n",
    "# for floderName in os.listdir(r\"train\"):\n",
    "#     print(floderName)\n",
    "#     for filename in os.listdir(r\"train/\" + floderName):\n",
    "#         print('Type = ', reverse_dict[floderName],', ImageName = ', floderName, ', File = ', filename)\n",
    "        \n",
    "#         type_.append(reverse_dict[floderName])\n",
    "#         name_.append(floderName)\n",
    "#         file_.append(floderName+filename[5:])\n",
    "        \n",
    "#         '''\n",
    "#         資料更名範例 image_0064.jpg  -> bedroom_0064.jpg\n",
    "#         將資料更名並存放路徑到設定的rename_train底下\n",
    "#         '''\n",
    "#         os.rename(path + \"/\" + floderName + \"/\" + filename,os.getcwd()+\"/\"+newpath+\"/\"+ floderName + filename[5:10] + \".jpg\")\n",
    "\n",
    "# #csv存檔，之後的preprocess可能用到\n",
    "# data_=pd.DataFrame({'class':type_, 'name':name_, 'img':file_})\n",
    "# data_.to_csv(\"img_description.csv\",index = False)\n",
    "\n",
    "# '''\n",
    "# 處理完後原本train資料夾就可以刪除了，已經將更名後資料放進rename_train底下。\n",
    "# ''' \n"
   ]
  }
 ],
 "metadata": {
  "kernelspec": {
   "display_name": "Python 3",
   "language": "python",
   "name": "python3"
  },
  "language_info": {
   "codemirror_mode": {
    "name": "ipython",
    "version": 3
   },
   "file_extension": ".py",
   "mimetype": "text/x-python",
   "name": "python",
   "nbconvert_exporter": "python",
   "pygments_lexer": "ipython3",
   "version": "3.5.4"
  }
 },
 "nbformat": 4,
 "nbformat_minor": 2
}
